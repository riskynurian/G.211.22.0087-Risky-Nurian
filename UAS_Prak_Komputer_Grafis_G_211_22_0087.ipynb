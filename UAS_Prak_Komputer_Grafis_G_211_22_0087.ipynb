{
  "nbformat": 4,
  "nbformat_minor": 0,
  "metadata": {
    "colab": {
      "provenance": []
    },
    "kernelspec": {
      "name": "python3",
      "display_name": "Python 3"
    },
    "language_info": {
      "name": "python"
    }
  },
  "cells": [
    {
      "cell_type": "code",
      "source": [
        "import pandas as pd\n",
        "from google.colab import files\n",
        "import io"
      ],
      "metadata": {
        "id": "594xRqSwrEpl"
      },
      "execution_count": 50,
      "outputs": []
    },
    {
      "cell_type": "code",
      "source": [
        "uploaded = files.upload()"
      ],
      "metadata": {
        "colab": {
          "base_uri": "https://localhost:8080/",
          "height": 73
        },
        "id": "G6IkHjser2iZ",
        "outputId": "acb0a8a8-554d-41a0-b2b3-b2ba705af91d"
      },
      "execution_count": 51,
      "outputs": [
        {
          "output_type": "display_data",
          "data": {
            "text/plain": [
              "<IPython.core.display.HTML object>"
            ],
            "text/html": [
              "\n",
              "     <input type=\"file\" id=\"files-16ecb1e9-279d-42ad-8f87-237260358307\" name=\"files[]\" multiple disabled\n",
              "        style=\"border:none\" />\n",
              "     <output id=\"result-16ecb1e9-279d-42ad-8f87-237260358307\">\n",
              "      Upload widget is only available when the cell has been executed in the\n",
              "      current browser session. Please rerun this cell to enable.\n",
              "      </output>\n",
              "      <script>// Copyright 2017 Google LLC\n",
              "//\n",
              "// Licensed under the Apache License, Version 2.0 (the \"License\");\n",
              "// you may not use this file except in compliance with the License.\n",
              "// You may obtain a copy of the License at\n",
              "//\n",
              "//      http://www.apache.org/licenses/LICENSE-2.0\n",
              "//\n",
              "// Unless required by applicable law or agreed to in writing, software\n",
              "// distributed under the License is distributed on an \"AS IS\" BASIS,\n",
              "// WITHOUT WARRANTIES OR CONDITIONS OF ANY KIND, either express or implied.\n",
              "// See the License for the specific language governing permissions and\n",
              "// limitations under the License.\n",
              "\n",
              "/**\n",
              " * @fileoverview Helpers for google.colab Python module.\n",
              " */\n",
              "(function(scope) {\n",
              "function span(text, styleAttributes = {}) {\n",
              "  const element = document.createElement('span');\n",
              "  element.textContent = text;\n",
              "  for (const key of Object.keys(styleAttributes)) {\n",
              "    element.style[key] = styleAttributes[key];\n",
              "  }\n",
              "  return element;\n",
              "}\n",
              "\n",
              "// Max number of bytes which will be uploaded at a time.\n",
              "const MAX_PAYLOAD_SIZE = 100 * 1024;\n",
              "\n",
              "function _uploadFiles(inputId, outputId) {\n",
              "  const steps = uploadFilesStep(inputId, outputId);\n",
              "  const outputElement = document.getElementById(outputId);\n",
              "  // Cache steps on the outputElement to make it available for the next call\n",
              "  // to uploadFilesContinue from Python.\n",
              "  outputElement.steps = steps;\n",
              "\n",
              "  return _uploadFilesContinue(outputId);\n",
              "}\n",
              "\n",
              "// This is roughly an async generator (not supported in the browser yet),\n",
              "// where there are multiple asynchronous steps and the Python side is going\n",
              "// to poll for completion of each step.\n",
              "// This uses a Promise to block the python side on completion of each step,\n",
              "// then passes the result of the previous step as the input to the next step.\n",
              "function _uploadFilesContinue(outputId) {\n",
              "  const outputElement = document.getElementById(outputId);\n",
              "  const steps = outputElement.steps;\n",
              "\n",
              "  const next = steps.next(outputElement.lastPromiseValue);\n",
              "  return Promise.resolve(next.value.promise).then((value) => {\n",
              "    // Cache the last promise value to make it available to the next\n",
              "    // step of the generator.\n",
              "    outputElement.lastPromiseValue = value;\n",
              "    return next.value.response;\n",
              "  });\n",
              "}\n",
              "\n",
              "/**\n",
              " * Generator function which is called between each async step of the upload\n",
              " * process.\n",
              " * @param {string} inputId Element ID of the input file picker element.\n",
              " * @param {string} outputId Element ID of the output display.\n",
              " * @return {!Iterable<!Object>} Iterable of next steps.\n",
              " */\n",
              "function* uploadFilesStep(inputId, outputId) {\n",
              "  const inputElement = document.getElementById(inputId);\n",
              "  inputElement.disabled = false;\n",
              "\n",
              "  const outputElement = document.getElementById(outputId);\n",
              "  outputElement.innerHTML = '';\n",
              "\n",
              "  const pickedPromise = new Promise((resolve) => {\n",
              "    inputElement.addEventListener('change', (e) => {\n",
              "      resolve(e.target.files);\n",
              "    });\n",
              "  });\n",
              "\n",
              "  const cancel = document.createElement('button');\n",
              "  inputElement.parentElement.appendChild(cancel);\n",
              "  cancel.textContent = 'Cancel upload';\n",
              "  const cancelPromise = new Promise((resolve) => {\n",
              "    cancel.onclick = () => {\n",
              "      resolve(null);\n",
              "    };\n",
              "  });\n",
              "\n",
              "  // Wait for the user to pick the files.\n",
              "  const files = yield {\n",
              "    promise: Promise.race([pickedPromise, cancelPromise]),\n",
              "    response: {\n",
              "      action: 'starting',\n",
              "    }\n",
              "  };\n",
              "\n",
              "  cancel.remove();\n",
              "\n",
              "  // Disable the input element since further picks are not allowed.\n",
              "  inputElement.disabled = true;\n",
              "\n",
              "  if (!files) {\n",
              "    return {\n",
              "      response: {\n",
              "        action: 'complete',\n",
              "      }\n",
              "    };\n",
              "  }\n",
              "\n",
              "  for (const file of files) {\n",
              "    const li = document.createElement('li');\n",
              "    li.append(span(file.name, {fontWeight: 'bold'}));\n",
              "    li.append(span(\n",
              "        `(${file.type || 'n/a'}) - ${file.size} bytes, ` +\n",
              "        `last modified: ${\n",
              "            file.lastModifiedDate ? file.lastModifiedDate.toLocaleDateString() :\n",
              "                                    'n/a'} - `));\n",
              "    const percent = span('0% done');\n",
              "    li.appendChild(percent);\n",
              "\n",
              "    outputElement.appendChild(li);\n",
              "\n",
              "    const fileDataPromise = new Promise((resolve) => {\n",
              "      const reader = new FileReader();\n",
              "      reader.onload = (e) => {\n",
              "        resolve(e.target.result);\n",
              "      };\n",
              "      reader.readAsArrayBuffer(file);\n",
              "    });\n",
              "    // Wait for the data to be ready.\n",
              "    let fileData = yield {\n",
              "      promise: fileDataPromise,\n",
              "      response: {\n",
              "        action: 'continue',\n",
              "      }\n",
              "    };\n",
              "\n",
              "    // Use a chunked sending to avoid message size limits. See b/62115660.\n",
              "    let position = 0;\n",
              "    do {\n",
              "      const length = Math.min(fileData.byteLength - position, MAX_PAYLOAD_SIZE);\n",
              "      const chunk = new Uint8Array(fileData, position, length);\n",
              "      position += length;\n",
              "\n",
              "      const base64 = btoa(String.fromCharCode.apply(null, chunk));\n",
              "      yield {\n",
              "        response: {\n",
              "          action: 'append',\n",
              "          file: file.name,\n",
              "          data: base64,\n",
              "        },\n",
              "      };\n",
              "\n",
              "      let percentDone = fileData.byteLength === 0 ?\n",
              "          100 :\n",
              "          Math.round((position / fileData.byteLength) * 100);\n",
              "      percent.textContent = `${percentDone}% done`;\n",
              "\n",
              "    } while (position < fileData.byteLength);\n",
              "  }\n",
              "\n",
              "  // All done.\n",
              "  yield {\n",
              "    response: {\n",
              "      action: 'complete',\n",
              "    }\n",
              "  };\n",
              "}\n",
              "\n",
              "scope.google = scope.google || {};\n",
              "scope.google.colab = scope.google.colab || {};\n",
              "scope.google.colab._files = {\n",
              "  _uploadFiles,\n",
              "  _uploadFilesContinue,\n",
              "};\n",
              "})(self);\n",
              "</script> "
            ]
          },
          "metadata": {}
        },
        {
          "output_type": "stream",
          "name": "stdout",
          "text": [
            "Saving stock.csv to stock (3).csv\n"
          ]
        }
      ]
    },
    {
      "cell_type": "code",
      "source": [
        "for fn in uploaded.keys():\n",
        "  print('User uploaded file \"{name}\" with length {length} bytes'.format(\n",
        "      name=fn, length=len(uploaded[fn])))"
      ],
      "metadata": {
        "colab": {
          "base_uri": "https://localhost:8080/"
        },
        "id": "zIxyqvNksF4o",
        "outputId": "44453438-e44e-4d1d-b032-99021c2cae40"
      },
      "execution_count": 52,
      "outputs": [
        {
          "output_type": "stream",
          "name": "stdout",
          "text": [
            "User uploaded file \"stock.csv\" with length 1164 bytes\n"
          ]
        }
      ]
    },
    {
      "cell_type": "code",
      "source": [
        "df = pd.read_csv(io.StringIO(uploaded['stock.csv'].decode('utf-8')))"
      ],
      "metadata": {
        "id": "znS-I6i3tIYq"
      },
      "execution_count": 53,
      "outputs": []
    },
    {
      "cell_type": "code",
      "source": [
        "k=df.head()\n",
        "k"
      ],
      "metadata": {
        "colab": {
          "base_uri": "https://localhost:8080/",
          "height": 250
        },
        "id": "eLqkYXQ2tqM3",
        "outputId": "45b00db4-5a74-4d0b-a790-73ca554ac15e"
      },
      "execution_count": 54,
      "outputs": [
        {
          "output_type": "execute_result",
          "data": {
            "text/plain": [
              "                   Stock Name Symbol  Shares Purchase Price  Cost Basis  \\\n",
              "0                       Apple   AAPL     100        $90.00    $9.000.00   \n",
              "1                   Microsoft   MSFT     200        $32.00    $6.400.00   \n",
              "2                  SalesForce    CRM     150        $25.00    $3.750.00   \n",
              "3                      Oracle   ORCL     250        $50.00   $12.500.00   \n",
              "4  Hawlett Packarc Enterprise    HPE     500        $18.00    $9.000.00   \n",
              "\n",
              "  Current Price Market Value   Gain/Loss Dividend/Share Annual Yield  \n",
              "0      $144.13    $14.413.27  $14.269.14         $2.28         1.58%  \n",
              "1       $65.57    $13.114.14  $13.048.57         $1.56         2.38%  \n",
              "2       $82.57    $12.385.50  $12.302.93         $0.00         0.00%  \n",
              "3       $44.56    $11.138.75  $11.094.20         $0.64         1.44%  \n",
              "4       $17.69     $8.842.50   $8.824.82         $0.26         1.47%  "
            ],
            "text/html": [
              "\n",
              "  <div id=\"df-f0fb1dbf-5431-4641-a473-f0b7a782d0ab\">\n",
              "    <div class=\"colab-df-container\">\n",
              "      <div>\n",
              "<style scoped>\n",
              "    .dataframe tbody tr th:only-of-type {\n",
              "        vertical-align: middle;\n",
              "    }\n",
              "\n",
              "    .dataframe tbody tr th {\n",
              "        vertical-align: top;\n",
              "    }\n",
              "\n",
              "    .dataframe thead th {\n",
              "        text-align: right;\n",
              "    }\n",
              "</style>\n",
              "<table border=\"1\" class=\"dataframe\">\n",
              "  <thead>\n",
              "    <tr style=\"text-align: right;\">\n",
              "      <th></th>\n",
              "      <th>Stock Name</th>\n",
              "      <th>Symbol</th>\n",
              "      <th>Shares</th>\n",
              "      <th>Purchase Price</th>\n",
              "      <th>Cost Basis</th>\n",
              "      <th>Current Price</th>\n",
              "      <th>Market Value</th>\n",
              "      <th>Gain/Loss</th>\n",
              "      <th>Dividend/Share</th>\n",
              "      <th>Annual Yield</th>\n",
              "    </tr>\n",
              "  </thead>\n",
              "  <tbody>\n",
              "    <tr>\n",
              "      <th>0</th>\n",
              "      <td>Apple</td>\n",
              "      <td>AAPL</td>\n",
              "      <td>100</td>\n",
              "      <td>$90.00</td>\n",
              "      <td>$9.000.00</td>\n",
              "      <td>$144.13</td>\n",
              "      <td>$14.413.27</td>\n",
              "      <td>$14.269.14</td>\n",
              "      <td>$2.28</td>\n",
              "      <td>1.58%</td>\n",
              "    </tr>\n",
              "    <tr>\n",
              "      <th>1</th>\n",
              "      <td>Microsoft</td>\n",
              "      <td>MSFT</td>\n",
              "      <td>200</td>\n",
              "      <td>$32.00</td>\n",
              "      <td>$6.400.00</td>\n",
              "      <td>$65.57</td>\n",
              "      <td>$13.114.14</td>\n",
              "      <td>$13.048.57</td>\n",
              "      <td>$1.56</td>\n",
              "      <td>2.38%</td>\n",
              "    </tr>\n",
              "    <tr>\n",
              "      <th>2</th>\n",
              "      <td>SalesForce</td>\n",
              "      <td>CRM</td>\n",
              "      <td>150</td>\n",
              "      <td>$25.00</td>\n",
              "      <td>$3.750.00</td>\n",
              "      <td>$82.57</td>\n",
              "      <td>$12.385.50</td>\n",
              "      <td>$12.302.93</td>\n",
              "      <td>$0.00</td>\n",
              "      <td>0.00%</td>\n",
              "    </tr>\n",
              "    <tr>\n",
              "      <th>3</th>\n",
              "      <td>Oracle</td>\n",
              "      <td>ORCL</td>\n",
              "      <td>250</td>\n",
              "      <td>$50.00</td>\n",
              "      <td>$12.500.00</td>\n",
              "      <td>$44.56</td>\n",
              "      <td>$11.138.75</td>\n",
              "      <td>$11.094.20</td>\n",
              "      <td>$0.64</td>\n",
              "      <td>1.44%</td>\n",
              "    </tr>\n",
              "    <tr>\n",
              "      <th>4</th>\n",
              "      <td>Hawlett Packarc Enterprise</td>\n",
              "      <td>HPE</td>\n",
              "      <td>500</td>\n",
              "      <td>$18.00</td>\n",
              "      <td>$9.000.00</td>\n",
              "      <td>$17.69</td>\n",
              "      <td>$8.842.50</td>\n",
              "      <td>$8.824.82</td>\n",
              "      <td>$0.26</td>\n",
              "      <td>1.47%</td>\n",
              "    </tr>\n",
              "  </tbody>\n",
              "</table>\n",
              "</div>\n",
              "      <button class=\"colab-df-convert\" onclick=\"convertToInteractive('df-f0fb1dbf-5431-4641-a473-f0b7a782d0ab')\"\n",
              "              title=\"Convert this dataframe to an interactive table.\"\n",
              "              style=\"display:none;\">\n",
              "        \n",
              "  <svg xmlns=\"http://www.w3.org/2000/svg\" height=\"24px\"viewBox=\"0 0 24 24\"\n",
              "       width=\"24px\">\n",
              "    <path d=\"M0 0h24v24H0V0z\" fill=\"none\"/>\n",
              "    <path d=\"M18.56 5.44l.94 2.06.94-2.06 2.06-.94-2.06-.94-.94-2.06-.94 2.06-2.06.94zm-11 1L8.5 8.5l.94-2.06 2.06-.94-2.06-.94L8.5 2.5l-.94 2.06-2.06.94zm10 10l.94 2.06.94-2.06 2.06-.94-2.06-.94-.94-2.06-.94 2.06-2.06.94z\"/><path d=\"M17.41 7.96l-1.37-1.37c-.4-.4-.92-.59-1.43-.59-.52 0-1.04.2-1.43.59L10.3 9.45l-7.72 7.72c-.78.78-.78 2.05 0 2.83L4 21.41c.39.39.9.59 1.41.59.51 0 1.02-.2 1.41-.59l7.78-7.78 2.81-2.81c.8-.78.8-2.07 0-2.86zM5.41 20L4 18.59l7.72-7.72 1.47 1.35L5.41 20z\"/>\n",
              "  </svg>\n",
              "      </button>\n",
              "      \n",
              "  <style>\n",
              "    .colab-df-container {\n",
              "      display:flex;\n",
              "      flex-wrap:wrap;\n",
              "      gap: 12px;\n",
              "    }\n",
              "\n",
              "    .colab-df-convert {\n",
              "      background-color: #E8F0FE;\n",
              "      border: none;\n",
              "      border-radius: 50%;\n",
              "      cursor: pointer;\n",
              "      display: none;\n",
              "      fill: #1967D2;\n",
              "      height: 32px;\n",
              "      padding: 0 0 0 0;\n",
              "      width: 32px;\n",
              "    }\n",
              "\n",
              "    .colab-df-convert:hover {\n",
              "      background-color: #E2EBFA;\n",
              "      box-shadow: 0px 1px 2px rgba(60, 64, 67, 0.3), 0px 1px 3px 1px rgba(60, 64, 67, 0.15);\n",
              "      fill: #174EA6;\n",
              "    }\n",
              "\n",
              "    [theme=dark] .colab-df-convert {\n",
              "      background-color: #3B4455;\n",
              "      fill: #D2E3FC;\n",
              "    }\n",
              "\n",
              "    [theme=dark] .colab-df-convert:hover {\n",
              "      background-color: #434B5C;\n",
              "      box-shadow: 0px 1px 3px 1px rgba(0, 0, 0, 0.15);\n",
              "      filter: drop-shadow(0px 1px 2px rgba(0, 0, 0, 0.3));\n",
              "      fill: #FFFFFF;\n",
              "    }\n",
              "  </style>\n",
              "\n",
              "      <script>\n",
              "        const buttonEl =\n",
              "          document.querySelector('#df-f0fb1dbf-5431-4641-a473-f0b7a782d0ab button.colab-df-convert');\n",
              "        buttonEl.style.display =\n",
              "          google.colab.kernel.accessAllowed ? 'block' : 'none';\n",
              "\n",
              "        async function convertToInteractive(key) {\n",
              "          const element = document.querySelector('#df-f0fb1dbf-5431-4641-a473-f0b7a782d0ab');\n",
              "          const dataTable =\n",
              "            await google.colab.kernel.invokeFunction('convertToInteractive',\n",
              "                                                     [key], {});\n",
              "          if (!dataTable) return;\n",
              "\n",
              "          const docLinkHtml = 'Like what you see? Visit the ' +\n",
              "            '<a target=\"_blank\" href=https://colab.research.google.com/notebooks/data_table.ipynb>data table notebook</a>'\n",
              "            + ' to learn more about interactive tables.';\n",
              "          element.innerHTML = '';\n",
              "          dataTable['output_type'] = 'display_data';\n",
              "          await google.colab.output.renderOutput(dataTable, element);\n",
              "          const docLink = document.createElement('div');\n",
              "          docLink.innerHTML = docLinkHtml;\n",
              "          element.appendChild(docLink);\n",
              "        }\n",
              "      </script>\n",
              "    </div>\n",
              "  </div>\n",
              "  "
            ]
          },
          "metadata": {},
          "execution_count": 54
        }
      ]
    },
    {
      "cell_type": "code",
      "source": [
        "uploaded"
      ],
      "metadata": {
        "colab": {
          "base_uri": "https://localhost:8080/"
        },
        "id": "YaTyRAD6y_iE",
        "outputId": "22eda695-aee3-4478-9d87-fdd9f03f3bc0"
      },
      "execution_count": 62,
      "outputs": [
        {
          "output_type": "execute_result",
          "data": {
            "text/plain": [
              "{'stock.csv': b'\\xef\\xbb\\xbfStock Name,Symbol,Shares,Purchase Price,Cost Basis,Current Price,Market Value,Gain/Loss,Dividend/Share,Annual Yield\\r\\nApple,AAPL,100,$90.00 ,$9.000.00,$144.13 ,$14.413.27,$14.269.14,$2.28 ,1.58%\\r\\nMicrosoft,MSFT,200,$32.00 ,$6.400.00,$65.57 ,$13.114.14,$13.048.57,$1.56 ,2.38%\\r\\nSalesForce,CRM,150,$25.00 ,$3.750.00,$82.57 ,$12.385.50,$12.302.93,$0.00 ,0.00%\\r\\nOracle,ORCL,250,$50.00 ,$12.500.00,$44.56 ,$11.138.75,$11.094.20,$0.64 ,1.44%\\r\\nHawlett Packarc Enterprise,HPE,500,$18.00 ,$9.000.00,$17.69 ,$8.842.50,$8.824.82,$0.26 ,1.47%\\r\\nAlphabet,GOOG,100,$225.00 ,$22.500.00,$833.36 ,$83.336.00,$82.502.64,$0.00 ,0.00%\\r\\nIntel,INTC,200,$22.00 ,$4.400.00,$36.07 ,$7.213.00,$7.176.94,$1.09 ,3.02%\\r\\nCisco,CSCO,225,$18.00 ,$4.040.00,$33.24 ,$7.478.78,$7.445.54,$1.16 ,3.49%\\r\\nQualcomm,QCOM,185,$65.00 ,$12.025.00,$56.48 ,$10.447.88,$10.391.40,$2.12 ,3.75%\\r\\nAmazon,AMZN,50,$800.00 ,$40.000.00,$897.64 ,$44.882.00,$43.984.36,$0.00 ,0.00%\\r\\nRedhat,RHT,100,$95.00 ,$9.500.00,$86.26 ,$8.626.00,$8.539.74,$0.00 ,0.00%\\r\\nFacebook,FB,1000,$17.00 ,$17.000.00,$141.64 ,$141.640.00,$141.498.36,$0.00 ,0.00%\\r\\nTwitter,TWTR,500,$45.00 ,$22.500.00,$14.61 ,$7.320.55,$7.287.94,$0.00 ,0.00%\\r\\n'}"
            ]
          },
          "metadata": {},
          "execution_count": 62
        }
      ]
    },
    {
      "cell_type": "code",
      "source": [
        "import io\n",
        "df = pd.read_csv(io.StringIO(uploaded['stock.csv'].decode('utf-8')))\n",
        "print(df)"
      ],
      "metadata": {
        "colab": {
          "base_uri": "https://localhost:8080/"
        },
        "id": "KMiNpVvjzHeY",
        "outputId": "2a41f323-55ef-4699-a988-4af830842f56"
      },
      "execution_count": 64,
      "outputs": [
        {
          "output_type": "stream",
          "name": "stdout",
          "text": [
            "                    Stock Name Symbol  Shares Purchase Price  Cost Basis  \\\n",
            "0                        Apple   AAPL     100        $90.00    $9.000.00   \n",
            "1                    Microsoft   MSFT     200        $32.00    $6.400.00   \n",
            "2                   SalesForce    CRM     150        $25.00    $3.750.00   \n",
            "3                       Oracle   ORCL     250        $50.00   $12.500.00   \n",
            "4   Hawlett Packarc Enterprise    HPE     500        $18.00    $9.000.00   \n",
            "5                     Alphabet   GOOG     100       $225.00   $22.500.00   \n",
            "6                        Intel   INTC     200        $22.00    $4.400.00   \n",
            "7                        Cisco   CSCO     225        $18.00    $4.040.00   \n",
            "8                     Qualcomm   QCOM     185        $65.00   $12.025.00   \n",
            "9                       Amazon   AMZN      50       $800.00   $40.000.00   \n",
            "10                      Redhat    RHT     100        $95.00    $9.500.00   \n",
            "11                    Facebook     FB    1000        $17.00   $17.000.00   \n",
            "12                     Twitter   TWTR     500        $45.00   $22.500.00   \n",
            "\n",
            "   Current Price Market Value    Gain/Loss Dividend/Share Annual Yield  \n",
            "0       $144.13    $14.413.27   $14.269.14         $2.28         1.58%  \n",
            "1        $65.57    $13.114.14   $13.048.57         $1.56         2.38%  \n",
            "2        $82.57    $12.385.50   $12.302.93         $0.00         0.00%  \n",
            "3        $44.56    $11.138.75   $11.094.20         $0.64         1.44%  \n",
            "4        $17.69     $8.842.50    $8.824.82         $0.26         1.47%  \n",
            "5       $833.36    $83.336.00   $82.502.64         $0.00         0.00%  \n",
            "6        $36.07     $7.213.00    $7.176.94         $1.09         3.02%  \n",
            "7        $33.24     $7.478.78    $7.445.54         $1.16         3.49%  \n",
            "8        $56.48    $10.447.88   $10.391.40         $2.12         3.75%  \n",
            "9       $897.64    $44.882.00   $43.984.36         $0.00         0.00%  \n",
            "10       $86.26     $8.626.00    $8.539.74         $0.00         0.00%  \n",
            "11      $141.64   $141.640.00  $141.498.36         $0.00         0.00%  \n",
            "12       $14.61     $7.320.55    $7.287.94         $0.00         0.00%  \n"
          ]
        }
      ]
    },
    {
      "cell_type": "markdown",
      "source": [
        "A.Distribusi data pada setiap atribut Purchase Price, Current Price dan Gain/Loss dengan\n",
        "grafik histogram"
      ],
      "metadata": {
        "id": "u615KUXgu4U4"
      }
    },
    {
      "cell_type": "code",
      "source": [
        "# Menampilkan histogram untuk atribut \"Purchase Price\" menggunakan Seaborn\n",
        "plt.figure(figsize=(20, 6))\n",
        "plt.hist(df['Purchase Price'], bins=50, edgecolor='black')\n",
        "plt.xlabel('Purchase Price')\n",
        "plt.ylabel('Count')\n",
        "plt.title('Histogram of Purchase Price')\n",
        "plt.show()\n"
      ],
      "metadata": {
        "colab": {
          "base_uri": "https://localhost:8080/",
          "height": 388
        },
        "id": "9kdxqE_EuDYQ",
        "outputId": "447acd15-7d8d-4521-e97b-eed7a1939884"
      },
      "execution_count": 58,
      "outputs": [
        {
          "output_type": "display_data",
          "data": {
            "text/plain": [
              "<Figure size 2000x600 with 1 Axes>"
            ],
            "image/png": "[encoded data removed]"
          },
          "metadata": {}
        }
      ]
    },
    {
      "cell_type": "code",
      "source": [
        "# Menampilkan histogram untuk atribut \"Current Price\" menggunakan Seaborn\n",
        "plt.figure(figsize=(8, 6))\n",
        "plt.hist(df['Current Price'], bins=50, edgecolor='black')\n",
        "plt.xlabel('Current Price')\n",
        "plt.ylabel('Count')\n",
        "plt.title('Histogram of Current Price')\n",
        "plt.show()"
      ],
      "metadata": {
        "colab": {
          "base_uri": "https://localhost:8080/",
          "height": 564
        },
        "id": "00S88JSCvBk4",
        "outputId": "4a7602e1-a4af-4477-ff44-6585d220dfb2"
      },
      "execution_count": 59,
      "outputs": [
        {
          "output_type": "display_data",
          "data": {
            "text/plain": [
              "<Figure size 800x600 with 1 Axes>"
            ],
            "image/png": "[encoded data removed]"
          },
          "metadata": {}
        }
      ]
    },
    {
      "cell_type": "code",
      "source": [
        "# Menampilkan bar chart untuk atribut \"Purchase Price\" menggunakan Seaborn\n",
        "plt.figure(figsize=(20, 4))\n",
        "plt.hist(df['Purchase Price'], bins=50, edgecolor='black')\n",
        "plt.xlabel('Purchase Price')\n",
        "plt.ylabel('Count')\n",
        "plt.title('Bar Chart of Purchase Price')\n",
        "plt.show()"
      ],
      "metadata": {
        "colab": {
          "base_uri": "https://localhost:8080/",
          "height": 283
        },
        "id": "ozjTUXqXw5od",
        "outputId": "923791d4-8d2f-49a7-cf03-dea2a3528630"
      },
      "execution_count": 60,
      "outputs": [
        {
          "output_type": "display_data",
          "data": {
            "text/plain": [
              "<Figure size 2000x400 with 1 Axes>"
            ],
            "image/png": "[encoded data removed]"
          },
          "metadata": {}
        }
      ]
    },
    {
      "cell_type": "markdown",
      "source": [
        "B.Atribut Stock Name dan Symbol yang memiliki Dividen / Share 5 tertinggi"
      ],
      "metadata": {
        "id": "qjOrxJqExNzz"
      }
    },
    {
      "cell_type": "code",
      "source": [
        "df = pd.read_csv(io.StringIO(uploaded['stock.csv'].decode('utf-8')))\n",
        "df_urut = df.sort_values('Dividend/Share', ascending=False)\n",
        "top5dividen = df_urut.head(5)[['Stock Name', 'Symbol', 'Dividend/Share']]\n",
        "print(top5dividen)"
      ],
      "metadata": {
        "colab": {
          "base_uri": "https://localhost:8080/"
        },
        "id": "pjEngGqk0cv5",
        "outputId": "65903971-4972-4e09-8bf4-ad8c83d37124"
      },
      "execution_count": 88,
      "outputs": [
        {
          "output_type": "stream",
          "name": "stdout",
          "text": [
            "  Stock Name Symbol Dividend/Share\n",
            "0      Apple   AAPL         $2.28 \n",
            "8   Qualcomm   QCOM         $2.12 \n",
            "1  Microsoft   MSFT         $1.56 \n",
            "7      Cisco   CSCO         $1.16 \n",
            "6      Intel   INTC         $1.09 \n"
          ]
        }
      ]
    },
    {
      "cell_type": "markdown",
      "source": [
        "C. Atribut Stock Name dan Symbol yang memiliki Market Value 5 tertinggi"
      ],
      "metadata": {
        "id": "Uo0T9Rks45A7"
      }
    },
    {
      "cell_type": "code",
      "source": [
        "df = pd.read_csv(io.StringIO(uploaded['stock.csv'].decode('utf-8')))\n",
        "df_urut = df.sort_values('Market Value', ascending=False)\n",
        "top5market = df_urut.head(5)[['Stock Name', 'Symbol', 'Market Value']]\n",
        "print(top5market)"
      ],
      "metadata": {
        "colab": {
          "base_uri": "https://localhost:8080/"
        },
        "id": "CXJG_0Uf4FjY",
        "outputId": "6de6ec5a-3c42-4dad-923a-e49d0356acad"
      },
      "execution_count": 77,
      "outputs": [
        {
          "output_type": "stream",
          "name": "stdout",
          "text": [
            "                    Stock Name Symbol Market Value\n",
            "5                     Alphabet   GOOG   $83.336.00\n",
            "4   Hawlett Packarc Enterprise    HPE    $8.842.50\n",
            "10                      Redhat    RHT    $8.626.00\n",
            "7                        Cisco   CSCO    $7.478.78\n",
            "12                     Twitter   TWTR    $7.320.55\n"
          ]
        }
      ]
    },
    {
      "cell_type": "markdown",
      "source": [
        "D. Atribut Stock Name dan Symbol yang memiliki Annual Yield 7 tertinggi"
      ],
      "metadata": {
        "id": "bZt9OQGU5u1z"
      }
    },
    {
      "cell_type": "code",
      "source": [
        "df = pd.read_csv(io.StringIO(uploaded['stock.csv'].decode('utf-8')))\n",
        "df_urut = df.sort_values('Annual Yield', ascending=False)\n",
        "top5annual = df_urut.head(7)[['Stock Name', 'Symbol', 'Annual Yield']]\n",
        "print(top5annual)"
      ],
      "metadata": {
        "colab": {
          "base_uri": "https://localhost:8080/"
        },
        "id": "B4Gq7a-p5A8-",
        "outputId": "29ef1406-ae76-42cd-cbe3-88449408d161"
      },
      "execution_count": 83,
      "outputs": [
        {
          "output_type": "stream",
          "name": "stdout",
          "text": [
            "                   Stock Name Symbol Annual Yield\n",
            "8                    Qualcomm   QCOM        3.75%\n",
            "7                       Cisco   CSCO        3.49%\n",
            "6                       Intel   INTC        3.02%\n",
            "1                   Microsoft   MSFT        2.38%\n",
            "0                       Apple   AAPL        1.58%\n",
            "4  Hawlett Packarc Enterprise    HPE        1.47%\n",
            "3                      Oracle   ORCL        1.44%\n"
          ]
        }
      ]
    }
  ]
}